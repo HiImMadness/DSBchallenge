{
 "cells": [
  {
   "cell_type": "code",
   "execution_count": 1,
   "metadata": {},
   "outputs": [],
   "source": [
    "import problem\n",
    "import xgboost as xgb\n",
    "import lightgbm as lgb\n",
    "from sklearn.metrics import mean_squared_error\n",
    "import numpy as np\n",
    "import pandas as pd"
   ]
  },
  {
   "cell_type": "code",
   "execution_count": 2,
   "metadata": {},
   "outputs": [
    {
     "name": "stdout",
     "output_type": "stream",
     "text": [
      "[LightGBM] [Info] Auto-choosing row-wise multi-threading, the overhead of testing was 0.001404 seconds.\n",
      "You can set `force_row_wise=true` to remove the overhead.\n",
      "And if memory is not enough, you can set `force_col_wise=true`.\n",
      "[LightGBM] [Info] Total Bins 203\n",
      "[LightGBM] [Info] Number of data points in the train set: 496827, number of used features: 6\n",
      "[LightGBM] [Info] Start training from score 3.079917\n",
      "XGBoost accuracy: 0.3631656329473284\n",
      "LightGBM accuracy: 0.436785578171438\n"
     ]
    }
   ],
   "source": [
    "# Load the data\n",
    "X_train, y_train, X_test, y_test = problem.get_transformed_data()\n",
    "\n",
    "# Train XGBoost model\n",
    "xgb_model = xgb.XGBRegressor()\n",
    "xgb_model.fit(X_train, y_train)\n",
    "\n",
    "# Train LightGBM model\n",
    "lgb_model = lgb.LGBMRegressor()\n",
    "lgb_model.fit(X_train, y_train)\n",
    "\n",
    "# Make predictions\n",
    "xgb_preds = xgb_model.predict(X_test)\n",
    "lgb_preds = lgb_model.predict(X_test)\n",
    "\n",
    "\n",
    "# Calculate score\n",
    "xgb_score = mean_squared_error(y_test, xgb_preds, squared=False)\n",
    "lgb_score = mean_squared_error(y_test, lgb_preds, squared=False)\n",
    "\n",
    "# Print results\n",
    "print(\"XGBoost accuracy:\", xgb_score)\n",
    "print(\"LightGBM accuracy:\", lgb_score)\n"
   ]
  },
  {
   "cell_type": "code",
   "execution_count": 15,
   "metadata": {},
   "outputs": [],
   "source": [
    "X_eval = problem.get_eval_data()"
   ]
  },
  {
   "cell_type": "code",
   "execution_count": 18,
   "metadata": {},
   "outputs": [
    {
     "name": "stdout",
     "output_type": "stream",
     "text": [
      "<class 'pandas.core.frame.DataFrame'>\n",
      "Index: 51440 entries, 17081 to 6855\n",
      "Data columns (total 10 columns):\n",
      " #   Column                     Non-Null Count  Dtype         \n",
      "---  ------                     --------------  -----         \n",
      " 0   counter_id                 51440 non-null  category      \n",
      " 1   counter_name               51440 non-null  category      \n",
      " 2   site_id                    51440 non-null  int64         \n",
      " 3   site_name                  51440 non-null  category      \n",
      " 4   date                       51440 non-null  datetime64[us]\n",
      " 5   counter_installation_date  51440 non-null  datetime64[us]\n",
      " 6   coordinates                51440 non-null  category      \n",
      " 7   counter_technical_id       51440 non-null  category      \n",
      " 8   latitude                   51440 non-null  float64       \n",
      " 9   longitude                  51440 non-null  float64       \n",
      "dtypes: category(5), datetime64[us](2), float64(2), int64(1)\n",
      "memory usage: 2.6 MB\n"
     ]
    }
   ],
   "source": [
    "X_eval.info()"
   ]
  },
  {
   "cell_type": "code",
   "execution_count": 19,
   "metadata": {},
   "outputs": [
    {
     "name": "stdout",
     "output_type": "stream",
     "text": [
      "Start date: 2021-09-10 01:00:00\n",
      "End date: 2021-10-18 21:00:00\n"
     ]
    }
   ],
   "source": [
    "start_date = X_eval['date'].min()\n",
    "end_date = X_eval['date'].max()\n",
    "print(\"Start date:\", start_date)\n",
    "print(\"End date:\", end_date)\n"
   ]
  },
  {
   "cell_type": "code",
   "execution_count": null,
   "metadata": {},
   "outputs": [],
   "source": [
    "y_pred = xgb_model.predict(X_eval)\n"
   ]
  },
  {
   "cell_type": "code",
   "execution_count": 6,
   "metadata": {},
   "outputs": [],
   "source": [
    "y_pred = xgb_model.predict(X_eval)\n",
    "results = pd.DataFrame(\n",
    "    dict(\n",
    "        Id=np.arange(y_pred.shape[0]),\n",
    "        log_bike_count=y_pred,\n",
    "    )\n",
    ")\n",
    "results.to_csv(\"submission.csv\", index=False)"
   ]
  }
 ],
 "metadata": {
  "kernelspec": {
   "display_name": "bikes-count",
   "language": "python",
   "name": "python3"
  },
  "language_info": {
   "codemirror_mode": {
    "name": "ipython",
    "version": 3
   },
   "file_extension": ".py",
   "mimetype": "text/x-python",
   "name": "python",
   "nbconvert_exporter": "python",
   "pygments_lexer": "ipython3",
   "version": "3.10.13"
  }
 },
 "nbformat": 4,
 "nbformat_minor": 2
}
